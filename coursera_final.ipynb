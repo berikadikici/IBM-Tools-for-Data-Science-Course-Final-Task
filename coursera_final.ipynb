{
  "metadata": {
    "kernelspec": {
      "name": "python",
      "display_name": "Python (Pyodide)",
      "language": "python"
    },
    "language_info": {
      "codemirror_mode": {
        "name": "python",
        "version": 3
      },
      "file_extension": ".py",
      "mimetype": "text/x-python",
      "name": "python",
      "nbconvert_exporter": "python",
      "pygments_lexer": "ipython3",
      "version": "3.8"
    }
  },
  "nbformat_minor": 4,
  "nbformat": 4,
  "cells": [
    {
      "cell_type": "markdown",
      "source": "# Coursera Final Task",
      "metadata": {}
    },
    {
      "cell_type": "markdown",
      "source": "# Enterance: \nThis notebook contains information about data science languages, libraries, and tools.",
      "metadata": {}
    },
    {
      "cell_type": "markdown",
      "source": "# Data Science Languages:\n- Python\n- R\n- SQL\n- Julia\n- Java",
      "metadata": {}
    },
    {
      "cell_type": "markdown",
      "source": "# Data Science Libraries:\n- Pandas\n- NumPy\n- Matplotlib\n- Scikit-learn\n- TensorFlow",
      "metadata": {}
    },
    {
      "cell_type": "markdown",
      "source": "# Data Science Tools:\n| Vehicle | Description |\n| --- | --- |\n| Jupyter | Interactive notebook for data science |\n| RStudio | Integrated development environment for R |\n| GitHub | Project version control and sharing |",
      "metadata": {}
    },
    {
      "cell_type": "markdown",
      "source": "# Arithmetic Expressions:\nPython can be used for arithmetic operations. For example, addition and multiplication operations can be performed.",
      "metadata": {}
    },
    {
      "cell_type": "code",
      "source": "\n# Multiplying and adding numbers\na = 15\nb = 20\ntotal = a + b\nproduct = a * b\nprint(\"Total:\", total)\nprint(\"Product:\", product)",
      "metadata": {
        "trusted": true
      },
      "outputs": [
        {
          "name": "stdout",
          "text": "Total: 35\nProduct: 300\n",
          "output_type": "stream"
        }
      ],
      "execution_count": 6
    },
    {
      "cell_type": "code",
      "source": "# Convert minutes to hours\nminutes = 180\nhour = minutes / 60\nprint(f\"{minutes} minutes = {hour} hours\")",
      "metadata": {
        "trusted": true
      },
      "outputs": [
        {
          "name": "stdout",
          "text": "180 minutes = 3.0 hours\n",
          "output_type": "stream"
        }
      ],
      "execution_count": 5
    },
    {
      "cell_type": "markdown",
      "source": "# Goals:\n- Learning data science tools\n- Implementing arithmetic operations in Python",
      "metadata": {}
    },
    {
      "cell_type": "markdown",
      "source": "**Author:** Berika Dikici",
      "metadata": {}
    }
  ]
}